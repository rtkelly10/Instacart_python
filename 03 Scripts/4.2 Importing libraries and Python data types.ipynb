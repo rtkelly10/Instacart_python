{
 "cells": [
  {
   "cell_type": "markdown",
   "id": "b08cc540",
   "metadata": {},
   "source": [
    "##### Step 4 - Importing Pythin Libraries"
   ]
  },
  {
   "cell_type": "code",
   "execution_count": 1,
   "id": "962da671",
   "metadata": {},
   "outputs": [],
   "source": [
    "# Import libraries\n",
    "import pandas as pd\n",
    "import numpy as np\n",
    "import os"
   ]
  },
  {
   "cell_type": "markdown",
   "id": "fd9d785c",
   "metadata": {},
   "source": [
    "##### Step 6 - Working with Data Types"
   ]
  },
  {
   "cell_type": "markdown",
   "id": "45000541",
   "metadata": {},
   "source": [
    "##### Step 7"
   ]
  },
  {
   "cell_type": "code",
   "execution_count": 7,
   "id": "3158dd24",
   "metadata": {},
   "outputs": [],
   "source": [
    "a = 40\n",
    "b = 60\n",
    "c = 160\n",
    "d = 140\n",
    "e = 200"
   ]
  },
  {
   "cell_type": "code",
   "execution_count": 8,
   "id": "bcaf3796",
   "metadata": {},
   "outputs": [
    {
     "name": "stdout",
     "output_type": "stream",
     "text": [
      "100\n"
     ]
    }
   ],
   "source": [
    "#7a\n",
    "print(a+b)"
   ]
  },
  {
   "cell_type": "code",
   "execution_count": 10,
   "id": "b24a7f41",
   "metadata": {},
   "outputs": [
    {
     "name": "stdout",
     "output_type": "stream",
     "text": [
      "100\n"
     ]
    }
   ],
   "source": [
    "#7b\n",
    "print(c-b)"
   ]
  },
  {
   "cell_type": "code",
   "execution_count": 11,
   "id": "6f3f2833",
   "metadata": {},
   "outputs": [
    {
     "name": "stdout",
     "output_type": "stream",
     "text": [
      "100\n"
     ]
    }
   ],
   "source": [
    "#7c\n",
    "print(c+d-e)"
   ]
  },
  {
   "cell_type": "markdown",
   "id": "6be4063c",
   "metadata": {},
   "source": [
    "##### Step 8"
   ]
  },
  {
   "cell_type": "code",
   "execution_count": 13,
   "id": "113381eb",
   "metadata": {},
   "outputs": [
    {
     "name": "stdout",
     "output_type": "stream",
     "text": [
      "Result of division: 5.25\n"
     ]
    }
   ],
   "source": [
    "# Define two floating-point variables\n",
    "float_var1 = 10.5\n",
    "float_var2 = 2.0\n",
    "\n",
    "# Divide\n",
    "result = float_var1 / float_var2\n",
    "\n",
    "print(\"Result of division:\", result)"
   ]
  },
  {
   "cell_type": "markdown",
   "id": "76c39f51",
   "metadata": {},
   "source": [
    "##### Step 9"
   ]
  },
  {
   "cell_type": "code",
   "execution_count": 14,
   "id": "ec1238dd",
   "metadata": {},
   "outputs": [
    {
     "name": "stdout",
     "output_type": "stream",
     "text": [
      "Constructed word: Birds\n"
     ]
    }
   ],
   "source": [
    "# Define separate strings\n",
    "str1 = \"B\"\n",
    "str2 = \"i\"\n",
    "str3 = \"r\"\n",
    "str4 = \"d\"\n",
    "str5 = \"s\"\n",
    "\n",
    "# Concatenate the strings\n",
    "word = str1 + str2 + str3 + str4 + str5\n",
    "\n",
    "print(\"Constructed word:\", word)"
   ]
  },
  {
   "cell_type": "markdown",
   "id": "453cf66c",
   "metadata": {},
   "source": [
    "##### Step 10"
   ]
  },
  {
   "cell_type": "code",
   "execution_count": 15,
   "id": "02eb8092",
   "metadata": {},
   "outputs": [
    {
     "name": "stdout",
     "output_type": "stream",
     "text": [
      "First Sentence: Tiger Woods is a good golfer.\n",
      "Second Sentence: The Orioles are a good baseball team.\n"
     ]
    }
   ],
   "source": [
    "# Define separate strings\n",
    "sentence1_part1 = \"Tiger Woods is\"\n",
    "sentence1_part2 = \"a good golfer.\"\n",
    "\n",
    "# Concatenate the strings\n",
    "sentence1 = sentence1_part1 + \" \" + sentence1_part2\n",
    "\n",
    "# Define separate strings\n",
    "sentence2_part1 = \"The Orioles are\"\n",
    "sentence2_part2 = \"a good baseball team.\"\n",
    "\n",
    "# Concatenate the strings\n",
    "sentence2 = sentence2_part1 + \" \" + sentence2_part2\n",
    "\n",
    "print(\"First Sentence:\", sentence1)\n",
    "print(\"Second Sentence:\", sentence2)"
   ]
  },
  {
   "cell_type": "code",
   "execution_count": null,
   "id": "dd3e45f7",
   "metadata": {},
   "outputs": [],
   "source": []
  }
 ],
 "metadata": {
  "kernelspec": {
   "display_name": "Python 3 (ipykernel)",
   "language": "python",
   "name": "python3"
  },
  "language_info": {
   "codemirror_mode": {
    "name": "ipython",
    "version": 3
   },
   "file_extension": ".py",
   "mimetype": "text/x-python",
   "name": "python",
   "nbconvert_exporter": "python",
   "pygments_lexer": "ipython3",
   "version": "3.11.4"
  }
 },
 "nbformat": 4,
 "nbformat_minor": 5
}
